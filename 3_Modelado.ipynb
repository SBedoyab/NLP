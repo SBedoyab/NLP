{
  "nbformat": 4,
  "nbformat_minor": 0,
  "metadata": {
    "colab": {
      "provenance": []
    },
    "kernelspec": {
      "name": "python3",
      "display_name": "Python 3"
    },
    "language_info": {
      "name": "python"
    }
  },
  "cells": [
    {
      "cell_type": "markdown",
      "source": [
        "# **0. Importación de librerías y carga de datos**"
      ],
      "metadata": {
        "id": "cVxIdE3_tQQA"
      }
    },
    {
      "cell_type": "markdown",
      "source": [
        "> ## ***Librerías***"
      ],
      "metadata": {
        "id": "TtlUF19ztfUY"
      }
    },
    {
      "cell_type": "code",
      "source": [
        "import pandas as pd\n",
        "import numpy as np\n",
        "\n",
        "from sklearn.feature_extraction.text import CountVectorizer # Modelado\n",
        "from sklearn.model_selection import train_test_split # Modelado\n",
        "from sklearn.model_selection import GridSearchCV # Modelado, hiperparámetros\n",
        "from sklearn.linear_model import LogisticRegression # Modelo\n",
        "from sklearn.ensemble import RandomForestClassifier # Modelo\n",
        "from sklearn.metrics import accuracy_score, classification_report # Reporte\n",
        "\n",
        "from joblib import dump # Para descarga del modelo\n",
        "from scipy import sparse # Para descarga de datos 'spliteados'"
      ],
      "metadata": {
        "id": "rMMB1LyEW9OV"
      },
      "execution_count": 1,
      "outputs": []
    },
    {
      "cell_type": "markdown",
      "source": [
        "> ## ***Carga del corpus***"
      ],
      "metadata": {
        "id": "OztccPQiOtw-"
      }
    },
    {
      "cell_type": "code",
      "source": [
        "corpus_reviews = pd.read_csv('./preprocessed_data_file.csv') # Archivo descargado del notebook 2\n",
        "corpus_reviews.sample(5)"
      ],
      "metadata": {
        "colab": {
          "base_uri": "https://localhost:8080/",
          "height": 206
        },
        "id": "gPmGraliOwxL",
        "outputId": "98a88efb-944c-40d2-f205-3f6f72794a90"
      },
      "execution_count": 2,
      "outputs": [
        {
          "output_type": "execute_result",
          "data": {
            "text/plain": [
              "       overall                                         reviewText  \\\n",
              "54734      4.0  Its a pretty nice case, looks really good but ...   \n",
              "40398      4.0                                        no problems   \n",
              "14677      1.0                                    lost for words.   \n",
              "63248      5.0  Best cord I've ever bought and I definitely ne...   \n",
              "32801      2.0  The nano towel was damp. Like it was dried out...   \n",
              "\n",
              "                                     preprocessed_review  \n",
              "54734  pretty nice case look really good make phone m...  \n",
              "40398                                            problem  \n",
              "14677                                          lost word  \n",
              "63248  best cord ever bought definitely needed extra ...  \n",
              "32801  nano towel damp like dried installed per instr...  "
            ],
            "text/html": [
              "\n",
              "  <div id=\"df-89c96f8a-9ac1-4a83-8361-1c6ff5d74c12\" class=\"colab-df-container\">\n",
              "    <div>\n",
              "<style scoped>\n",
              "    .dataframe tbody tr th:only-of-type {\n",
              "        vertical-align: middle;\n",
              "    }\n",
              "\n",
              "    .dataframe tbody tr th {\n",
              "        vertical-align: top;\n",
              "    }\n",
              "\n",
              "    .dataframe thead th {\n",
              "        text-align: right;\n",
              "    }\n",
              "</style>\n",
              "<table border=\"1\" class=\"dataframe\">\n",
              "  <thead>\n",
              "    <tr style=\"text-align: right;\">\n",
              "      <th></th>\n",
              "      <th>overall</th>\n",
              "      <th>reviewText</th>\n",
              "      <th>preprocessed_review</th>\n",
              "    </tr>\n",
              "  </thead>\n",
              "  <tbody>\n",
              "    <tr>\n",
              "      <th>54734</th>\n",
              "      <td>4.0</td>\n",
              "      <td>Its a pretty nice case, looks really good but ...</td>\n",
              "      <td>pretty nice case look really good make phone m...</td>\n",
              "    </tr>\n",
              "    <tr>\n",
              "      <th>40398</th>\n",
              "      <td>4.0</td>\n",
              "      <td>no problems</td>\n",
              "      <td>problem</td>\n",
              "    </tr>\n",
              "    <tr>\n",
              "      <th>14677</th>\n",
              "      <td>1.0</td>\n",
              "      <td>lost for words.</td>\n",
              "      <td>lost word</td>\n",
              "    </tr>\n",
              "    <tr>\n",
              "      <th>63248</th>\n",
              "      <td>5.0</td>\n",
              "      <td>Best cord I've ever bought and I definitely ne...</td>\n",
              "      <td>best cord ever bought definitely needed extra ...</td>\n",
              "    </tr>\n",
              "    <tr>\n",
              "      <th>32801</th>\n",
              "      <td>2.0</td>\n",
              "      <td>The nano towel was damp. Like it was dried out...</td>\n",
              "      <td>nano towel damp like dried installed per instr...</td>\n",
              "    </tr>\n",
              "  </tbody>\n",
              "</table>\n",
              "</div>\n",
              "    <div class=\"colab-df-buttons\">\n",
              "\n",
              "  <div class=\"colab-df-container\">\n",
              "    <button class=\"colab-df-convert\" onclick=\"convertToInteractive('df-89c96f8a-9ac1-4a83-8361-1c6ff5d74c12')\"\n",
              "            title=\"Convert this dataframe to an interactive table.\"\n",
              "            style=\"display:none;\">\n",
              "\n",
              "  <svg xmlns=\"http://www.w3.org/2000/svg\" height=\"24px\" viewBox=\"0 -960 960 960\">\n",
              "    <path d=\"M120-120v-720h720v720H120Zm60-500h600v-160H180v160Zm220 220h160v-160H400v160Zm0 220h160v-160H400v160ZM180-400h160v-160H180v160Zm440 0h160v-160H620v160ZM180-180h160v-160H180v160Zm440 0h160v-160H620v160Z\"/>\n",
              "  </svg>\n",
              "    </button>\n",
              "\n",
              "  <style>\n",
              "    .colab-df-container {\n",
              "      display:flex;\n",
              "      gap: 12px;\n",
              "    }\n",
              "\n",
              "    .colab-df-convert {\n",
              "      background-color: #E8F0FE;\n",
              "      border: none;\n",
              "      border-radius: 50%;\n",
              "      cursor: pointer;\n",
              "      display: none;\n",
              "      fill: #1967D2;\n",
              "      height: 32px;\n",
              "      padding: 0 0 0 0;\n",
              "      width: 32px;\n",
              "    }\n",
              "\n",
              "    .colab-df-convert:hover {\n",
              "      background-color: #E2EBFA;\n",
              "      box-shadow: 0px 1px 2px rgba(60, 64, 67, 0.3), 0px 1px 3px 1px rgba(60, 64, 67, 0.15);\n",
              "      fill: #174EA6;\n",
              "    }\n",
              "\n",
              "    .colab-df-buttons div {\n",
              "      margin-bottom: 4px;\n",
              "    }\n",
              "\n",
              "    [theme=dark] .colab-df-convert {\n",
              "      background-color: #3B4455;\n",
              "      fill: #D2E3FC;\n",
              "    }\n",
              "\n",
              "    [theme=dark] .colab-df-convert:hover {\n",
              "      background-color: #434B5C;\n",
              "      box-shadow: 0px 1px 3px 1px rgba(0, 0, 0, 0.15);\n",
              "      filter: drop-shadow(0px 1px 2px rgba(0, 0, 0, 0.3));\n",
              "      fill: #FFFFFF;\n",
              "    }\n",
              "  </style>\n",
              "\n",
              "    <script>\n",
              "      const buttonEl =\n",
              "        document.querySelector('#df-89c96f8a-9ac1-4a83-8361-1c6ff5d74c12 button.colab-df-convert');\n",
              "      buttonEl.style.display =\n",
              "        google.colab.kernel.accessAllowed ? 'block' : 'none';\n",
              "\n",
              "      async function convertToInteractive(key) {\n",
              "        const element = document.querySelector('#df-89c96f8a-9ac1-4a83-8361-1c6ff5d74c12');\n",
              "        const dataTable =\n",
              "          await google.colab.kernel.invokeFunction('convertToInteractive',\n",
              "                                                    [key], {});\n",
              "        if (!dataTable) return;\n",
              "\n",
              "        const docLinkHtml = 'Like what you see? Visit the ' +\n",
              "          '<a target=\"_blank\" href=https://colab.research.google.com/notebooks/data_table.ipynb>data table notebook</a>'\n",
              "          + ' to learn more about interactive tables.';\n",
              "        element.innerHTML = '';\n",
              "        dataTable['output_type'] = 'display_data';\n",
              "        await google.colab.output.renderOutput(dataTable, element);\n",
              "        const docLink = document.createElement('div');\n",
              "        docLink.innerHTML = docLinkHtml;\n",
              "        element.appendChild(docLink);\n",
              "      }\n",
              "    </script>\n",
              "  </div>\n",
              "\n",
              "\n",
              "<div id=\"df-80c85d9b-7dc2-4ae7-959a-38458b42df0f\">\n",
              "  <button class=\"colab-df-quickchart\" onclick=\"quickchart('df-80c85d9b-7dc2-4ae7-959a-38458b42df0f')\"\n",
              "            title=\"Suggest charts\"\n",
              "            style=\"display:none;\">\n",
              "\n",
              "<svg xmlns=\"http://www.w3.org/2000/svg\" height=\"24px\"viewBox=\"0 0 24 24\"\n",
              "     width=\"24px\">\n",
              "    <g>\n",
              "        <path d=\"M19 3H5c-1.1 0-2 .9-2 2v14c0 1.1.9 2 2 2h14c1.1 0 2-.9 2-2V5c0-1.1-.9-2-2-2zM9 17H7v-7h2v7zm4 0h-2V7h2v10zm4 0h-2v-4h2v4z\"/>\n",
              "    </g>\n",
              "</svg>\n",
              "  </button>\n",
              "\n",
              "<style>\n",
              "  .colab-df-quickchart {\n",
              "      --bg-color: #E8F0FE;\n",
              "      --fill-color: #1967D2;\n",
              "      --hover-bg-color: #E2EBFA;\n",
              "      --hover-fill-color: #174EA6;\n",
              "      --disabled-fill-color: #AAA;\n",
              "      --disabled-bg-color: #DDD;\n",
              "  }\n",
              "\n",
              "  [theme=dark] .colab-df-quickchart {\n",
              "      --bg-color: #3B4455;\n",
              "      --fill-color: #D2E3FC;\n",
              "      --hover-bg-color: #434B5C;\n",
              "      --hover-fill-color: #FFFFFF;\n",
              "      --disabled-bg-color: #3B4455;\n",
              "      --disabled-fill-color: #666;\n",
              "  }\n",
              "\n",
              "  .colab-df-quickchart {\n",
              "    background-color: var(--bg-color);\n",
              "    border: none;\n",
              "    border-radius: 50%;\n",
              "    cursor: pointer;\n",
              "    display: none;\n",
              "    fill: var(--fill-color);\n",
              "    height: 32px;\n",
              "    padding: 0;\n",
              "    width: 32px;\n",
              "  }\n",
              "\n",
              "  .colab-df-quickchart:hover {\n",
              "    background-color: var(--hover-bg-color);\n",
              "    box-shadow: 0 1px 2px rgba(60, 64, 67, 0.3), 0 1px 3px 1px rgba(60, 64, 67, 0.15);\n",
              "    fill: var(--button-hover-fill-color);\n",
              "  }\n",
              "\n",
              "  .colab-df-quickchart-complete:disabled,\n",
              "  .colab-df-quickchart-complete:disabled:hover {\n",
              "    background-color: var(--disabled-bg-color);\n",
              "    fill: var(--disabled-fill-color);\n",
              "    box-shadow: none;\n",
              "  }\n",
              "\n",
              "  .colab-df-spinner {\n",
              "    border: 2px solid var(--fill-color);\n",
              "    border-color: transparent;\n",
              "    border-bottom-color: var(--fill-color);\n",
              "    animation:\n",
              "      spin 1s steps(1) infinite;\n",
              "  }\n",
              "\n",
              "  @keyframes spin {\n",
              "    0% {\n",
              "      border-color: transparent;\n",
              "      border-bottom-color: var(--fill-color);\n",
              "      border-left-color: var(--fill-color);\n",
              "    }\n",
              "    20% {\n",
              "      border-color: transparent;\n",
              "      border-left-color: var(--fill-color);\n",
              "      border-top-color: var(--fill-color);\n",
              "    }\n",
              "    30% {\n",
              "      border-color: transparent;\n",
              "      border-left-color: var(--fill-color);\n",
              "      border-top-color: var(--fill-color);\n",
              "      border-right-color: var(--fill-color);\n",
              "    }\n",
              "    40% {\n",
              "      border-color: transparent;\n",
              "      border-right-color: var(--fill-color);\n",
              "      border-top-color: var(--fill-color);\n",
              "    }\n",
              "    60% {\n",
              "      border-color: transparent;\n",
              "      border-right-color: var(--fill-color);\n",
              "    }\n",
              "    80% {\n",
              "      border-color: transparent;\n",
              "      border-right-color: var(--fill-color);\n",
              "      border-bottom-color: var(--fill-color);\n",
              "    }\n",
              "    90% {\n",
              "      border-color: transparent;\n",
              "      border-bottom-color: var(--fill-color);\n",
              "    }\n",
              "  }\n",
              "</style>\n",
              "\n",
              "  <script>\n",
              "    async function quickchart(key) {\n",
              "      const quickchartButtonEl =\n",
              "        document.querySelector('#' + key + ' button');\n",
              "      quickchartButtonEl.disabled = true;  // To prevent multiple clicks.\n",
              "      quickchartButtonEl.classList.add('colab-df-spinner');\n",
              "      try {\n",
              "        const charts = await google.colab.kernel.invokeFunction(\n",
              "            'suggestCharts', [key], {});\n",
              "      } catch (error) {\n",
              "        console.error('Error during call to suggestCharts:', error);\n",
              "      }\n",
              "      quickchartButtonEl.classList.remove('colab-df-spinner');\n",
              "      quickchartButtonEl.classList.add('colab-df-quickchart-complete');\n",
              "    }\n",
              "    (() => {\n",
              "      let quickchartButtonEl =\n",
              "        document.querySelector('#df-80c85d9b-7dc2-4ae7-959a-38458b42df0f button');\n",
              "      quickchartButtonEl.style.display =\n",
              "        google.colab.kernel.accessAllowed ? 'block' : 'none';\n",
              "    })();\n",
              "  </script>\n",
              "</div>\n",
              "\n",
              "    </div>\n",
              "  </div>\n"
            ],
            "application/vnd.google.colaboratory.intrinsic+json": {
              "type": "dataframe",
              "summary": "{\n  \"name\": \"corpus_reviews\",\n  \"rows\": 5,\n  \"fields\": [\n    {\n      \"column\": \"overall\",\n      \"properties\": {\n        \"dtype\": \"number\",\n        \"std\": 1.6431676725154984,\n        \"min\": 1.0,\n        \"max\": 5.0,\n        \"num_unique_values\": 4,\n        \"samples\": [\n          1.0,\n          2.0,\n          4.0\n        ],\n        \"semantic_type\": \"\",\n        \"description\": \"\"\n      }\n    },\n    {\n      \"column\": \"reviewText\",\n      \"properties\": {\n        \"dtype\": \"string\",\n        \"num_unique_values\": 5,\n        \"samples\": [\n          \"no problems\",\n          \"The nano towel was damp. Like it was dried out. Installed per instructions but it really didn't work. I really like the concept though\",\n          \"lost for words.\"\n        ],\n        \"semantic_type\": \"\",\n        \"description\": \"\"\n      }\n    },\n    {\n      \"column\": \"preprocessed_review\",\n      \"properties\": {\n        \"dtype\": \"string\",\n        \"num_unique_values\": 5,\n        \"samples\": [\n          \"problem\",\n          \"nano towel damp like dried installed per instruction really work really like concept though\",\n          \"lost word\"\n        ],\n        \"semantic_type\": \"\",\n        \"description\": \"\"\n      }\n    }\n  ]\n}"
            }
          },
          "metadata": {},
          "execution_count": 2
        }
      ]
    },
    {
      "cell_type": "markdown",
      "source": [
        "# **1. Bag of Words**"
      ],
      "metadata": {
        "id": "MdatvBvORaLD"
      }
    },
    {
      "cell_type": "markdown",
      "source": [
        "> ## ***Conversión a un problema binario***"
      ],
      "metadata": {
        "id": "XSkj3Myshd7Q"
      }
    },
    {
      "cell_type": "code",
      "source": [
        "corpus_reviews['overall'] = corpus_reviews['overall'].apply(lambda x: 1 if x > 3 else 0)\n",
        "\n",
        "corpus_reviews['overall'].value_counts()"
      ],
      "metadata": {
        "colab": {
          "base_uri": "https://localhost:8080/"
        },
        "id": "jwXwq9lxhHbP",
        "outputId": "c8b5d8f9-eeb9-4eec-fb38-288af71a9b6e"
      },
      "execution_count": 3,
      "outputs": [
        {
          "output_type": "execute_result",
          "data": {
            "text/plain": [
              "0    40000\n",
              "1    40000\n",
              "Name: overall, dtype: int64"
            ]
          },
          "metadata": {},
          "execution_count": 3
        }
      ]
    },
    {
      "cell_type": "code",
      "source": [
        "corpus_reviews.isnull().sum()"
      ],
      "metadata": {
        "colab": {
          "base_uri": "https://localhost:8080/"
        },
        "id": "P-L6XBFo1zH9",
        "outputId": "53997b3f-9c64-44c9-fc1e-2a27985cc881"
      },
      "execution_count": 4,
      "outputs": [
        {
          "output_type": "execute_result",
          "data": {
            "text/plain": [
              "overall                 0\n",
              "reviewText              0\n",
              "preprocessed_review    89\n",
              "dtype: int64"
            ]
          },
          "metadata": {},
          "execution_count": 4
        }
      ]
    },
    {
      "cell_type": "code",
      "source": [
        "corpus_reviews.dropna(inplace = True)"
      ],
      "metadata": {
        "id": "szj7mJAZ19hP"
      },
      "execution_count": 5,
      "outputs": []
    },
    {
      "cell_type": "markdown",
      "source": [
        "> ## ***Vectorización***"
      ],
      "metadata": {
        "id": "hEmmm4O0i0zF"
      }
    },
    {
      "cell_type": "code",
      "source": [
        "vectorizer = CountVectorizer(max_features = 2000, # Para reducir en gran medida la dimensionalidad del problema, enfocándome en las palabras más repetidas\n",
        "                             ngram_range = (1,3), # Para incluir unigramas, bigramas y trigramas ya que vimos que todos estos son importantes\n",
        "                             max_df = 0.8,        # Para tener un máximo de una frecuencia del 80% de apariciones\n",
        "                             min_df = 0.015       # Si está en menos del 1.5% de veces en el corpus (), tampoco se tiene en cuenta\n",
        "                             )"
      ],
      "metadata": {
        "id": "uBloktQAjHKc"
      },
      "execution_count": 6,
      "outputs": []
    },
    {
      "cell_type": "code",
      "source": [
        "X = vectorizer.fit_transform(corpus_reviews['preprocessed_review'])\n",
        "y = corpus_reviews['overall']"
      ],
      "metadata": {
        "id": "fUh9ZsPov_hV"
      },
      "execution_count": 7,
      "outputs": []
    },
    {
      "cell_type": "markdown",
      "source": [
        "# **2. Modelado**"
      ],
      "metadata": {
        "id": "6gJEkZMywzE1"
      }
    },
    {
      "cell_type": "markdown",
      "source": [
        "> ## ***División train-test***"
      ],
      "metadata": {
        "id": "FkYAL729xDGF"
      }
    },
    {
      "cell_type": "code",
      "source": [
        "X_train, X_test, y_train, y_test = train_test_split(X, y, test_size = 0.2, shuffle = True)"
      ],
      "metadata": {
        "id": "inKhVMtmxHLp"
      },
      "execution_count": 8,
      "outputs": []
    },
    {
      "cell_type": "markdown",
      "source": [
        "## **2.1 Primer modelo**"
      ],
      "metadata": {
        "id": "wBDtz-Q8xsV5"
      }
    },
    {
      "cell_type": "code",
      "source": [
        "# Definición de hiperparámetros para explorar\n",
        "pg_logistic = {'C': [0.001, 0.01, 0.1, 1, 10, 100],\n",
        "                       'penalty': ['l1', 'l2', 'elasticnet'],\n",
        "                       'solver': ['newton-cg', 'lbfgs', 'liblinear', 'sag', 'saga']\n",
        "                       }\n",
        "\n",
        "# Configuración del GridSearch\n",
        "gs_logistic = GridSearchCV(LogisticRegression(max_iter = 200),\n",
        "                           param_grid = pg_logistic,\n",
        "                           cv = 3,\n",
        "                           scoring = 'accuracy',\n",
        "                           verbose = 2)\n",
        "\n",
        "# Compilación del modelo\n",
        "gs_logistic.fit(X_train, y_train)\n",
        "\n",
        "# Mejores hiperparámetros\n",
        "print(\"Mejores hiperparámetros para regresor logístico:\", gs_logistic.best_params_)"
      ],
      "metadata": {
        "colab": {
          "base_uri": "https://localhost:8080/"
        },
        "id": "5K_hTgn1zCXU",
        "outputId": "776f62fe-e61d-4f6d-8983-e3b65330fe64"
      },
      "execution_count": 9,
      "outputs": [
        {
          "output_type": "stream",
          "name": "stdout",
          "text": [
            "Fitting 3 folds for each of 90 candidates, totalling 270 fits\n",
            "[CV] END ..............C=0.001, penalty=l1, solver=newton-cg; total time=   0.0s\n",
            "[CV] END ..............C=0.001, penalty=l1, solver=newton-cg; total time=   0.0s\n",
            "[CV] END ..............C=0.001, penalty=l1, solver=newton-cg; total time=   0.0s\n",
            "[CV] END ..................C=0.001, penalty=l1, solver=lbfgs; total time=   0.0s\n",
            "[CV] END ..................C=0.001, penalty=l1, solver=lbfgs; total time=   0.0s\n",
            "[CV] END ..................C=0.001, penalty=l1, solver=lbfgs; total time=   0.0s\n",
            "[CV] END ..............C=0.001, penalty=l1, solver=liblinear; total time=   0.1s\n",
            "[CV] END ..............C=0.001, penalty=l1, solver=liblinear; total time=   0.1s\n",
            "[CV] END ..............C=0.001, penalty=l1, solver=liblinear; total time=   0.1s\n",
            "[CV] END ....................C=0.001, penalty=l1, solver=sag; total time=   0.0s\n",
            "[CV] END ....................C=0.001, penalty=l1, solver=sag; total time=   0.0s\n",
            "[CV] END ....................C=0.001, penalty=l1, solver=sag; total time=   0.0s\n",
            "[CV] END ...................C=0.001, penalty=l1, solver=saga; total time=   4.9s\n",
            "[CV] END ...................C=0.001, penalty=l1, solver=saga; total time=   4.3s\n",
            "[CV] END ...................C=0.001, penalty=l1, solver=saga; total time=   3.7s\n",
            "[CV] END ..............C=0.001, penalty=l2, solver=newton-cg; total time=   0.4s\n",
            "[CV] END ..............C=0.001, penalty=l2, solver=newton-cg; total time=   0.4s\n",
            "[CV] END ..............C=0.001, penalty=l2, solver=newton-cg; total time=   0.4s\n",
            "[CV] END ..................C=0.001, penalty=l2, solver=lbfgs; total time=   0.2s\n",
            "[CV] END ..................C=0.001, penalty=l2, solver=lbfgs; total time=   0.1s\n",
            "[CV] END ..................C=0.001, penalty=l2, solver=lbfgs; total time=   0.2s\n",
            "[CV] END ..............C=0.001, penalty=l2, solver=liblinear; total time=   0.2s\n",
            "[CV] END ..............C=0.001, penalty=l2, solver=liblinear; total time=   0.2s\n",
            "[CV] END ..............C=0.001, penalty=l2, solver=liblinear; total time=   0.2s\n",
            "[CV] END ....................C=0.001, penalty=l2, solver=sag; total time=   2.5s\n",
            "[CV] END ....................C=0.001, penalty=l2, solver=sag; total time=   1.7s\n",
            "[CV] END ....................C=0.001, penalty=l2, solver=sag; total time=   1.7s\n",
            "[CV] END ...................C=0.001, penalty=l2, solver=saga; total time=   0.7s\n",
            "[CV] END ...................C=0.001, penalty=l2, solver=saga; total time=   0.8s\n",
            "[CV] END ...................C=0.001, penalty=l2, solver=saga; total time=   0.7s\n",
            "[CV] END ......C=0.001, penalty=elasticnet, solver=newton-cg; total time=   0.0s\n",
            "[CV] END ......C=0.001, penalty=elasticnet, solver=newton-cg; total time=   0.0s\n",
            "[CV] END ......C=0.001, penalty=elasticnet, solver=newton-cg; total time=   0.0s\n",
            "[CV] END ..........C=0.001, penalty=elasticnet, solver=lbfgs; total time=   0.0s\n",
            "[CV] END ..........C=0.001, penalty=elasticnet, solver=lbfgs; total time=   0.0s\n",
            "[CV] END ..........C=0.001, penalty=elasticnet, solver=lbfgs; total time=   0.0s\n",
            "[CV] END ......C=0.001, penalty=elasticnet, solver=liblinear; total time=   0.0s\n",
            "[CV] END ......C=0.001, penalty=elasticnet, solver=liblinear; total time=   0.0s\n",
            "[CV] END ......C=0.001, penalty=elasticnet, solver=liblinear; total time=   0.0s\n",
            "[CV] END ............C=0.001, penalty=elasticnet, solver=sag; total time=   0.0s\n",
            "[CV] END ............C=0.001, penalty=elasticnet, solver=sag; total time=   0.0s\n",
            "[CV] END ............C=0.001, penalty=elasticnet, solver=sag; total time=   0.0s\n",
            "[CV] END ...........C=0.001, penalty=elasticnet, solver=saga; total time=   0.0s\n",
            "[CV] END ...........C=0.001, penalty=elasticnet, solver=saga; total time=   0.0s\n",
            "[CV] END ...........C=0.001, penalty=elasticnet, solver=saga; total time=   0.0s\n",
            "[CV] END ...............C=0.01, penalty=l1, solver=newton-cg; total time=   0.0s\n",
            "[CV] END ...............C=0.01, penalty=l1, solver=newton-cg; total time=   0.0s\n",
            "[CV] END ...............C=0.01, penalty=l1, solver=newton-cg; total time=   0.0s\n",
            "[CV] END ...................C=0.01, penalty=l1, solver=lbfgs; total time=   0.0s\n",
            "[CV] END ...................C=0.01, penalty=l1, solver=lbfgs; total time=   0.0s\n",
            "[CV] END ...................C=0.01, penalty=l1, solver=lbfgs; total time=   0.0s\n",
            "[CV] END ...............C=0.01, penalty=l1, solver=liblinear; total time=   0.1s\n",
            "[CV] END ...............C=0.01, penalty=l1, solver=liblinear; total time=   0.1s\n",
            "[CV] END ...............C=0.01, penalty=l1, solver=liblinear; total time=   0.1s\n",
            "[CV] END .....................C=0.01, penalty=l1, solver=sag; total time=   0.0s\n",
            "[CV] END .....................C=0.01, penalty=l1, solver=sag; total time=   0.0s\n",
            "[CV] END .....................C=0.01, penalty=l1, solver=sag; total time=   0.0s\n",
            "[CV] END ....................C=0.01, penalty=l1, solver=saga; total time=   8.9s\n",
            "[CV] END ....................C=0.01, penalty=l1, solver=saga; total time=   7.6s\n",
            "[CV] END ....................C=0.01, penalty=l1, solver=saga; total time=   9.0s\n",
            "[CV] END ...............C=0.01, penalty=l2, solver=newton-cg; total time=   0.5s\n",
            "[CV] END ...............C=0.01, penalty=l2, solver=newton-cg; total time=   0.5s\n",
            "[CV] END ...............C=0.01, penalty=l2, solver=newton-cg; total time=   0.5s\n",
            "[CV] END ...................C=0.01, penalty=l2, solver=lbfgs; total time=   0.2s\n",
            "[CV] END ...................C=0.01, penalty=l2, solver=lbfgs; total time=   0.2s\n",
            "[CV] END ...................C=0.01, penalty=l2, solver=lbfgs; total time=   0.2s\n",
            "[CV] END ...............C=0.01, penalty=l2, solver=liblinear; total time=   0.2s\n",
            "[CV] END ...............C=0.01, penalty=l2, solver=liblinear; total time=   0.2s\n",
            "[CV] END ...............C=0.01, penalty=l2, solver=liblinear; total time=   0.2s\n",
            "[CV] END .....................C=0.01, penalty=l2, solver=sag; total time=   3.5s\n",
            "[CV] END .....................C=0.01, penalty=l2, solver=sag; total time=   2.5s\n",
            "[CV] END .....................C=0.01, penalty=l2, solver=sag; total time=   2.4s\n",
            "[CV] END ....................C=0.01, penalty=l2, solver=saga; total time=   2.5s\n",
            "[CV] END ....................C=0.01, penalty=l2, solver=saga; total time=   3.3s\n",
            "[CV] END ....................C=0.01, penalty=l2, solver=saga; total time=   2.8s\n",
            "[CV] END .......C=0.01, penalty=elasticnet, solver=newton-cg; total time=   0.0s\n",
            "[CV] END .......C=0.01, penalty=elasticnet, solver=newton-cg; total time=   0.0s\n",
            "[CV] END .......C=0.01, penalty=elasticnet, solver=newton-cg; total time=   0.0s\n",
            "[CV] END ...........C=0.01, penalty=elasticnet, solver=lbfgs; total time=   0.0s\n",
            "[CV] END ...........C=0.01, penalty=elasticnet, solver=lbfgs; total time=   0.0s\n",
            "[CV] END ...........C=0.01, penalty=elasticnet, solver=lbfgs; total time=   0.0s\n",
            "[CV] END .......C=0.01, penalty=elasticnet, solver=liblinear; total time=   0.0s\n",
            "[CV] END .......C=0.01, penalty=elasticnet, solver=liblinear; total time=   0.0s\n",
            "[CV] END .......C=0.01, penalty=elasticnet, solver=liblinear; total time=   0.0s\n",
            "[CV] END .............C=0.01, penalty=elasticnet, solver=sag; total time=   0.0s\n",
            "[CV] END .............C=0.01, penalty=elasticnet, solver=sag; total time=   0.0s\n",
            "[CV] END .............C=0.01, penalty=elasticnet, solver=sag; total time=   0.0s\n",
            "[CV] END ............C=0.01, penalty=elasticnet, solver=saga; total time=   0.0s\n",
            "[CV] END ............C=0.01, penalty=elasticnet, solver=saga; total time=   0.0s\n",
            "[CV] END ............C=0.01, penalty=elasticnet, solver=saga; total time=   0.0s\n",
            "[CV] END ................C=0.1, penalty=l1, solver=newton-cg; total time=   0.0s\n",
            "[CV] END ................C=0.1, penalty=l1, solver=newton-cg; total time=   0.0s\n",
            "[CV] END ................C=0.1, penalty=l1, solver=newton-cg; total time=   0.0s\n",
            "[CV] END ....................C=0.1, penalty=l1, solver=lbfgs; total time=   0.0s\n",
            "[CV] END ....................C=0.1, penalty=l1, solver=lbfgs; total time=   0.0s\n",
            "[CV] END ....................C=0.1, penalty=l1, solver=lbfgs; total time=   0.0s\n",
            "[CV] END ................C=0.1, penalty=l1, solver=liblinear; total time=   0.2s\n",
            "[CV] END ................C=0.1, penalty=l1, solver=liblinear; total time=   0.2s\n",
            "[CV] END ................C=0.1, penalty=l1, solver=liblinear; total time=   0.1s\n",
            "[CV] END ......................C=0.1, penalty=l1, solver=sag; total time=   0.0s\n",
            "[CV] END ......................C=0.1, penalty=l1, solver=sag; total time=   0.0s\n",
            "[CV] END ......................C=0.1, penalty=l1, solver=sag; total time=   0.0s\n"
          ]
        },
        {
          "output_type": "stream",
          "name": "stderr",
          "text": [
            "/usr/local/lib/python3.10/dist-packages/sklearn/linear_model/_sag.py:350: ConvergenceWarning: The max_iter was reached which means the coef_ did not converge\n",
            "  warnings.warn(\n"
          ]
        },
        {
          "output_type": "stream",
          "name": "stdout",
          "text": [
            "[CV] END .....................C=0.1, penalty=l1, solver=saga; total time=  17.0s\n"
          ]
        },
        {
          "output_type": "stream",
          "name": "stderr",
          "text": [
            "/usr/local/lib/python3.10/dist-packages/sklearn/linear_model/_sag.py:350: ConvergenceWarning: The max_iter was reached which means the coef_ did not converge\n",
            "  warnings.warn(\n"
          ]
        },
        {
          "output_type": "stream",
          "name": "stdout",
          "text": [
            "[CV] END .....................C=0.1, penalty=l1, solver=saga; total time=  16.2s\n"
          ]
        },
        {
          "output_type": "stream",
          "name": "stderr",
          "text": [
            "/usr/local/lib/python3.10/dist-packages/sklearn/linear_model/_sag.py:350: ConvergenceWarning: The max_iter was reached which means the coef_ did not converge\n",
            "  warnings.warn(\n"
          ]
        },
        {
          "output_type": "stream",
          "name": "stdout",
          "text": [
            "[CV] END .....................C=0.1, penalty=l1, solver=saga; total time=  16.7s\n",
            "[CV] END ................C=0.1, penalty=l2, solver=newton-cg; total time=   0.7s\n",
            "[CV] END ................C=0.1, penalty=l2, solver=newton-cg; total time=   0.7s\n",
            "[CV] END ................C=0.1, penalty=l2, solver=newton-cg; total time=   0.7s\n",
            "[CV] END ....................C=0.1, penalty=l2, solver=lbfgs; total time=   0.4s\n",
            "[CV] END ....................C=0.1, penalty=l2, solver=lbfgs; total time=   0.4s\n",
            "[CV] END ....................C=0.1, penalty=l2, solver=lbfgs; total time=   0.4s\n",
            "[CV] END ................C=0.1, penalty=l2, solver=liblinear; total time=   0.4s\n",
            "[CV] END ................C=0.1, penalty=l2, solver=liblinear; total time=   0.4s\n",
            "[CV] END ................C=0.1, penalty=l2, solver=liblinear; total time=   0.4s\n"
          ]
        },
        {
          "output_type": "stream",
          "name": "stderr",
          "text": [
            "/usr/local/lib/python3.10/dist-packages/sklearn/linear_model/_sag.py:350: ConvergenceWarning: The max_iter was reached which means the coef_ did not converge\n",
            "  warnings.warn(\n"
          ]
        },
        {
          "output_type": "stream",
          "name": "stdout",
          "text": [
            "[CV] END ......................C=0.1, penalty=l2, solver=sag; total time=   6.1s\n",
            "[CV] END ......................C=0.1, penalty=l2, solver=sag; total time=   5.2s\n"
          ]
        },
        {
          "output_type": "stream",
          "name": "stderr",
          "text": [
            "/usr/local/lib/python3.10/dist-packages/sklearn/linear_model/_sag.py:350: ConvergenceWarning: The max_iter was reached which means the coef_ did not converge\n",
            "  warnings.warn(\n"
          ]
        },
        {
          "output_type": "stream",
          "name": "stdout",
          "text": [
            "[CV] END ......................C=0.1, penalty=l2, solver=sag; total time=   5.5s\n"
          ]
        },
        {
          "output_type": "stream",
          "name": "stderr",
          "text": [
            "/usr/local/lib/python3.10/dist-packages/sklearn/linear_model/_sag.py:350: ConvergenceWarning: The max_iter was reached which means the coef_ did not converge\n",
            "  warnings.warn(\n"
          ]
        },
        {
          "output_type": "stream",
          "name": "stdout",
          "text": [
            "[CV] END .....................C=0.1, penalty=l2, solver=saga; total time=   5.6s\n"
          ]
        },
        {
          "output_type": "stream",
          "name": "stderr",
          "text": [
            "/usr/local/lib/python3.10/dist-packages/sklearn/linear_model/_sag.py:350: ConvergenceWarning: The max_iter was reached which means the coef_ did not converge\n",
            "  warnings.warn(\n"
          ]
        },
        {
          "output_type": "stream",
          "name": "stdout",
          "text": [
            "[CV] END .....................C=0.1, penalty=l2, solver=saga; total time=   4.5s\n"
          ]
        },
        {
          "output_type": "stream",
          "name": "stderr",
          "text": [
            "/usr/local/lib/python3.10/dist-packages/sklearn/linear_model/_sag.py:350: ConvergenceWarning: The max_iter was reached which means the coef_ did not converge\n",
            "  warnings.warn(\n"
          ]
        },
        {
          "output_type": "stream",
          "name": "stdout",
          "text": [
            "[CV] END .....................C=0.1, penalty=l2, solver=saga; total time=   6.2s\n",
            "[CV] END ........C=0.1, penalty=elasticnet, solver=newton-cg; total time=   0.0s\n",
            "[CV] END ........C=0.1, penalty=elasticnet, solver=newton-cg; total time=   0.0s\n",
            "[CV] END ........C=0.1, penalty=elasticnet, solver=newton-cg; total time=   0.0s\n",
            "[CV] END ............C=0.1, penalty=elasticnet, solver=lbfgs; total time=   0.0s\n",
            "[CV] END ............C=0.1, penalty=elasticnet, solver=lbfgs; total time=   0.0s\n",
            "[CV] END ............C=0.1, penalty=elasticnet, solver=lbfgs; total time=   0.0s\n",
            "[CV] END ........C=0.1, penalty=elasticnet, solver=liblinear; total time=   0.0s\n",
            "[CV] END ........C=0.1, penalty=elasticnet, solver=liblinear; total time=   0.0s\n",
            "[CV] END ........C=0.1, penalty=elasticnet, solver=liblinear; total time=   0.0s\n",
            "[CV] END ..............C=0.1, penalty=elasticnet, solver=sag; total time=   0.0s\n",
            "[CV] END ..............C=0.1, penalty=elasticnet, solver=sag; total time=   0.0s\n",
            "[CV] END ..............C=0.1, penalty=elasticnet, solver=sag; total time=   0.0s\n",
            "[CV] END .............C=0.1, penalty=elasticnet, solver=saga; total time=   0.0s\n",
            "[CV] END .............C=0.1, penalty=elasticnet, solver=saga; total time=   0.0s\n",
            "[CV] END .............C=0.1, penalty=elasticnet, solver=saga; total time=   0.0s\n",
            "[CV] END ..................C=1, penalty=l1, solver=newton-cg; total time=   0.0s\n",
            "[CV] END ..................C=1, penalty=l1, solver=newton-cg; total time=   0.0s\n",
            "[CV] END ..................C=1, penalty=l1, solver=newton-cg; total time=   0.0s\n",
            "[CV] END ......................C=1, penalty=l1, solver=lbfgs; total time=   0.0s\n",
            "[CV] END ......................C=1, penalty=l1, solver=lbfgs; total time=   0.0s\n",
            "[CV] END ......................C=1, penalty=l1, solver=lbfgs; total time=   0.0s\n",
            "[CV] END ..................C=1, penalty=l1, solver=liblinear; total time=   0.2s\n",
            "[CV] END ..................C=1, penalty=l1, solver=liblinear; total time=   0.2s\n",
            "[CV] END ..................C=1, penalty=l1, solver=liblinear; total time=   0.2s\n",
            "[CV] END ........................C=1, penalty=l1, solver=sag; total time=   0.0s\n",
            "[CV] END ........................C=1, penalty=l1, solver=sag; total time=   0.0s\n",
            "[CV] END ........................C=1, penalty=l1, solver=sag; total time=   0.0s\n"
          ]
        },
        {
          "output_type": "stream",
          "name": "stderr",
          "text": [
            "/usr/local/lib/python3.10/dist-packages/sklearn/linear_model/_sag.py:350: ConvergenceWarning: The max_iter was reached which means the coef_ did not converge\n",
            "  warnings.warn(\n"
          ]
        },
        {
          "output_type": "stream",
          "name": "stdout",
          "text": [
            "[CV] END .......................C=1, penalty=l1, solver=saga; total time=  18.7s\n"
          ]
        },
        {
          "output_type": "stream",
          "name": "stderr",
          "text": [
            "/usr/local/lib/python3.10/dist-packages/sklearn/linear_model/_sag.py:350: ConvergenceWarning: The max_iter was reached which means the coef_ did not converge\n",
            "  warnings.warn(\n"
          ]
        },
        {
          "output_type": "stream",
          "name": "stdout",
          "text": [
            "[CV] END .......................C=1, penalty=l1, solver=saga; total time=  19.9s\n"
          ]
        },
        {
          "output_type": "stream",
          "name": "stderr",
          "text": [
            "/usr/local/lib/python3.10/dist-packages/sklearn/linear_model/_sag.py:350: ConvergenceWarning: The max_iter was reached which means the coef_ did not converge\n",
            "  warnings.warn(\n"
          ]
        },
        {
          "output_type": "stream",
          "name": "stdout",
          "text": [
            "[CV] END .......................C=1, penalty=l1, solver=saga; total time=  18.2s\n",
            "[CV] END ..................C=1, penalty=l2, solver=newton-cg; total time=   0.7s\n",
            "[CV] END ..................C=1, penalty=l2, solver=newton-cg; total time=   0.7s\n",
            "[CV] END ..................C=1, penalty=l2, solver=newton-cg; total time=   0.7s\n",
            "[CV] END ......................C=1, penalty=l2, solver=lbfgs; total time=   0.6s\n",
            "[CV] END ......................C=1, penalty=l2, solver=lbfgs; total time=   0.6s\n",
            "[CV] END ......................C=1, penalty=l2, solver=lbfgs; total time=   0.5s\n",
            "[CV] END ..................C=1, penalty=l2, solver=liblinear; total time=   0.5s\n",
            "[CV] END ..................C=1, penalty=l2, solver=liblinear; total time=   0.6s\n",
            "[CV] END ..................C=1, penalty=l2, solver=liblinear; total time=   0.4s\n"
          ]
        },
        {
          "output_type": "stream",
          "name": "stderr",
          "text": [
            "/usr/local/lib/python3.10/dist-packages/sklearn/linear_model/_sag.py:350: ConvergenceWarning: The max_iter was reached which means the coef_ did not converge\n",
            "  warnings.warn(\n"
          ]
        },
        {
          "output_type": "stream",
          "name": "stdout",
          "text": [
            "[CV] END ........................C=1, penalty=l2, solver=sag; total time=   4.7s\n"
          ]
        },
        {
          "output_type": "stream",
          "name": "stderr",
          "text": [
            "/usr/local/lib/python3.10/dist-packages/sklearn/linear_model/_sag.py:350: ConvergenceWarning: The max_iter was reached which means the coef_ did not converge\n",
            "  warnings.warn(\n"
          ]
        },
        {
          "output_type": "stream",
          "name": "stdout",
          "text": [
            "[CV] END ........................C=1, penalty=l2, solver=sag; total time=   4.9s\n"
          ]
        },
        {
          "output_type": "stream",
          "name": "stderr",
          "text": [
            "/usr/local/lib/python3.10/dist-packages/sklearn/linear_model/_sag.py:350: ConvergenceWarning: The max_iter was reached which means the coef_ did not converge\n",
            "  warnings.warn(\n"
          ]
        },
        {
          "output_type": "stream",
          "name": "stdout",
          "text": [
            "[CV] END ........................C=1, penalty=l2, solver=sag; total time=   5.7s\n"
          ]
        },
        {
          "output_type": "stream",
          "name": "stderr",
          "text": [
            "/usr/local/lib/python3.10/dist-packages/sklearn/linear_model/_sag.py:350: ConvergenceWarning: The max_iter was reached which means the coef_ did not converge\n",
            "  warnings.warn(\n"
          ]
        },
        {
          "output_type": "stream",
          "name": "stdout",
          "text": [
            "[CV] END .......................C=1, penalty=l2, solver=saga; total time=   5.4s\n"
          ]
        },
        {
          "output_type": "stream",
          "name": "stderr",
          "text": [
            "/usr/local/lib/python3.10/dist-packages/sklearn/linear_model/_sag.py:350: ConvergenceWarning: The max_iter was reached which means the coef_ did not converge\n",
            "  warnings.warn(\n"
          ]
        },
        {
          "output_type": "stream",
          "name": "stdout",
          "text": [
            "[CV] END .......................C=1, penalty=l2, solver=saga; total time=   6.0s\n"
          ]
        },
        {
          "output_type": "stream",
          "name": "stderr",
          "text": [
            "/usr/local/lib/python3.10/dist-packages/sklearn/linear_model/_sag.py:350: ConvergenceWarning: The max_iter was reached which means the coef_ did not converge\n",
            "  warnings.warn(\n"
          ]
        },
        {
          "output_type": "stream",
          "name": "stdout",
          "text": [
            "[CV] END .......................C=1, penalty=l2, solver=saga; total time=   5.0s\n",
            "[CV] END ..........C=1, penalty=elasticnet, solver=newton-cg; total time=   0.0s\n",
            "[CV] END ..........C=1, penalty=elasticnet, solver=newton-cg; total time=   0.0s\n",
            "[CV] END ..........C=1, penalty=elasticnet, solver=newton-cg; total time=   0.0s\n",
            "[CV] END ..............C=1, penalty=elasticnet, solver=lbfgs; total time=   0.0s\n",
            "[CV] END ..............C=1, penalty=elasticnet, solver=lbfgs; total time=   0.0s\n",
            "[CV] END ..............C=1, penalty=elasticnet, solver=lbfgs; total time=   0.0s\n",
            "[CV] END ..........C=1, penalty=elasticnet, solver=liblinear; total time=   0.0s\n",
            "[CV] END ..........C=1, penalty=elasticnet, solver=liblinear; total time=   0.0s\n",
            "[CV] END ..........C=1, penalty=elasticnet, solver=liblinear; total time=   0.0s\n",
            "[CV] END ................C=1, penalty=elasticnet, solver=sag; total time=   0.0s\n",
            "[CV] END ................C=1, penalty=elasticnet, solver=sag; total time=   0.0s\n",
            "[CV] END ................C=1, penalty=elasticnet, solver=sag; total time=   0.0s\n",
            "[CV] END ...............C=1, penalty=elasticnet, solver=saga; total time=   0.0s\n",
            "[CV] END ...............C=1, penalty=elasticnet, solver=saga; total time=   0.0s\n",
            "[CV] END ...............C=1, penalty=elasticnet, solver=saga; total time=   0.0s\n",
            "[CV] END .................C=10, penalty=l1, solver=newton-cg; total time=   0.0s\n",
            "[CV] END .................C=10, penalty=l1, solver=newton-cg; total time=   0.0s\n",
            "[CV] END .................C=10, penalty=l1, solver=newton-cg; total time=   0.0s\n",
            "[CV] END .....................C=10, penalty=l1, solver=lbfgs; total time=   0.0s\n",
            "[CV] END .....................C=10, penalty=l1, solver=lbfgs; total time=   0.0s\n",
            "[CV] END .....................C=10, penalty=l1, solver=lbfgs; total time=   0.0s\n",
            "[CV] END .................C=10, penalty=l1, solver=liblinear; total time=   0.2s\n",
            "[CV] END .................C=10, penalty=l1, solver=liblinear; total time=   0.2s\n",
            "[CV] END .................C=10, penalty=l1, solver=liblinear; total time=   0.2s\n",
            "[CV] END .......................C=10, penalty=l1, solver=sag; total time=   0.0s\n",
            "[CV] END .......................C=10, penalty=l1, solver=sag; total time=   0.0s\n",
            "[CV] END .......................C=10, penalty=l1, solver=sag; total time=   0.0s\n"
          ]
        },
        {
          "output_type": "stream",
          "name": "stderr",
          "text": [
            "/usr/local/lib/python3.10/dist-packages/sklearn/linear_model/_sag.py:350: ConvergenceWarning: The max_iter was reached which means the coef_ did not converge\n",
            "  warnings.warn(\n"
          ]
        },
        {
          "output_type": "stream",
          "name": "stdout",
          "text": [
            "[CV] END ......................C=10, penalty=l1, solver=saga; total time=  20.2s\n"
          ]
        },
        {
          "output_type": "stream",
          "name": "stderr",
          "text": [
            "/usr/local/lib/python3.10/dist-packages/sklearn/linear_model/_sag.py:350: ConvergenceWarning: The max_iter was reached which means the coef_ did not converge\n",
            "  warnings.warn(\n"
          ]
        },
        {
          "output_type": "stream",
          "name": "stdout",
          "text": [
            "[CV] END ......................C=10, penalty=l1, solver=saga; total time=  19.6s\n"
          ]
        },
        {
          "output_type": "stream",
          "name": "stderr",
          "text": [
            "/usr/local/lib/python3.10/dist-packages/sklearn/linear_model/_sag.py:350: ConvergenceWarning: The max_iter was reached which means the coef_ did not converge\n",
            "  warnings.warn(\n"
          ]
        },
        {
          "output_type": "stream",
          "name": "stdout",
          "text": [
            "[CV] END ......................C=10, penalty=l1, solver=saga; total time=  19.3s\n",
            "[CV] END .................C=10, penalty=l2, solver=newton-cg; total time=   0.8s\n",
            "[CV] END .................C=10, penalty=l2, solver=newton-cg; total time=   0.7s\n",
            "[CV] END .................C=10, penalty=l2, solver=newton-cg; total time=   0.7s\n",
            "[CV] END .....................C=10, penalty=l2, solver=lbfgs; total time=   0.4s\n",
            "[CV] END .....................C=10, penalty=l2, solver=lbfgs; total time=   0.5s\n",
            "[CV] END .....................C=10, penalty=l2, solver=lbfgs; total time=   0.4s\n",
            "[CV] END .................C=10, penalty=l2, solver=liblinear; total time=   0.4s\n",
            "[CV] END .................C=10, penalty=l2, solver=liblinear; total time=   0.3s\n",
            "[CV] END .................C=10, penalty=l2, solver=liblinear; total time=   0.4s\n"
          ]
        },
        {
          "output_type": "stream",
          "name": "stderr",
          "text": [
            "/usr/local/lib/python3.10/dist-packages/sklearn/linear_model/_sag.py:350: ConvergenceWarning: The max_iter was reached which means the coef_ did not converge\n",
            "  warnings.warn(\n"
          ]
        },
        {
          "output_type": "stream",
          "name": "stdout",
          "text": [
            "[CV] END .......................C=10, penalty=l2, solver=sag; total time=   5.6s\n"
          ]
        },
        {
          "output_type": "stream",
          "name": "stderr",
          "text": [
            "/usr/local/lib/python3.10/dist-packages/sklearn/linear_model/_sag.py:350: ConvergenceWarning: The max_iter was reached which means the coef_ did not converge\n",
            "  warnings.warn(\n"
          ]
        },
        {
          "output_type": "stream",
          "name": "stdout",
          "text": [
            "[CV] END .......................C=10, penalty=l2, solver=sag; total time=   5.7s\n"
          ]
        },
        {
          "output_type": "stream",
          "name": "stderr",
          "text": [
            "/usr/local/lib/python3.10/dist-packages/sklearn/linear_model/_sag.py:350: ConvergenceWarning: The max_iter was reached which means the coef_ did not converge\n",
            "  warnings.warn(\n"
          ]
        },
        {
          "output_type": "stream",
          "name": "stdout",
          "text": [
            "[CV] END .......................C=10, penalty=l2, solver=sag; total time=   5.3s\n"
          ]
        },
        {
          "output_type": "stream",
          "name": "stderr",
          "text": [
            "/usr/local/lib/python3.10/dist-packages/sklearn/linear_model/_sag.py:350: ConvergenceWarning: The max_iter was reached which means the coef_ did not converge\n",
            "  warnings.warn(\n"
          ]
        },
        {
          "output_type": "stream",
          "name": "stdout",
          "text": [
            "[CV] END ......................C=10, penalty=l2, solver=saga; total time=   5.0s\n"
          ]
        },
        {
          "output_type": "stream",
          "name": "stderr",
          "text": [
            "/usr/local/lib/python3.10/dist-packages/sklearn/linear_model/_sag.py:350: ConvergenceWarning: The max_iter was reached which means the coef_ did not converge\n",
            "  warnings.warn(\n"
          ]
        },
        {
          "output_type": "stream",
          "name": "stdout",
          "text": [
            "[CV] END ......................C=10, penalty=l2, solver=saga; total time=   5.0s\n"
          ]
        },
        {
          "output_type": "stream",
          "name": "stderr",
          "text": [
            "/usr/local/lib/python3.10/dist-packages/sklearn/linear_model/_sag.py:350: ConvergenceWarning: The max_iter was reached which means the coef_ did not converge\n",
            "  warnings.warn(\n"
          ]
        },
        {
          "output_type": "stream",
          "name": "stdout",
          "text": [
            "[CV] END ......................C=10, penalty=l2, solver=saga; total time=   5.8s\n",
            "[CV] END .........C=10, penalty=elasticnet, solver=newton-cg; total time=   0.0s\n",
            "[CV] END .........C=10, penalty=elasticnet, solver=newton-cg; total time=   0.0s\n",
            "[CV] END .........C=10, penalty=elasticnet, solver=newton-cg; total time=   0.0s\n",
            "[CV] END .............C=10, penalty=elasticnet, solver=lbfgs; total time=   0.0s\n",
            "[CV] END .............C=10, penalty=elasticnet, solver=lbfgs; total time=   0.0s\n",
            "[CV] END .............C=10, penalty=elasticnet, solver=lbfgs; total time=   0.0s\n",
            "[CV] END .........C=10, penalty=elasticnet, solver=liblinear; total time=   0.0s\n",
            "[CV] END .........C=10, penalty=elasticnet, solver=liblinear; total time=   0.0s\n",
            "[CV] END .........C=10, penalty=elasticnet, solver=liblinear; total time=   0.0s\n",
            "[CV] END ...............C=10, penalty=elasticnet, solver=sag; total time=   0.0s\n",
            "[CV] END ...............C=10, penalty=elasticnet, solver=sag; total time=   0.0s\n",
            "[CV] END ...............C=10, penalty=elasticnet, solver=sag; total time=   0.0s\n",
            "[CV] END ..............C=10, penalty=elasticnet, solver=saga; total time=   0.0s\n",
            "[CV] END ..............C=10, penalty=elasticnet, solver=saga; total time=   0.0s\n",
            "[CV] END ..............C=10, penalty=elasticnet, solver=saga; total time=   0.0s\n",
            "[CV] END ................C=100, penalty=l1, solver=newton-cg; total time=   0.0s\n",
            "[CV] END ................C=100, penalty=l1, solver=newton-cg; total time=   0.0s\n",
            "[CV] END ................C=100, penalty=l1, solver=newton-cg; total time=   0.0s\n",
            "[CV] END ....................C=100, penalty=l1, solver=lbfgs; total time=   0.0s\n",
            "[CV] END ....................C=100, penalty=l1, solver=lbfgs; total time=   0.0s\n",
            "[CV] END ....................C=100, penalty=l1, solver=lbfgs; total time=   0.0s\n",
            "[CV] END ................C=100, penalty=l1, solver=liblinear; total time=   0.2s\n",
            "[CV] END ................C=100, penalty=l1, solver=liblinear; total time=   0.2s\n",
            "[CV] END ................C=100, penalty=l1, solver=liblinear; total time=   0.2s\n",
            "[CV] END ......................C=100, penalty=l1, solver=sag; total time=   0.0s\n",
            "[CV] END ......................C=100, penalty=l1, solver=sag; total time=   0.0s\n",
            "[CV] END ......................C=100, penalty=l1, solver=sag; total time=   0.0s\n"
          ]
        },
        {
          "output_type": "stream",
          "name": "stderr",
          "text": [
            "/usr/local/lib/python3.10/dist-packages/sklearn/linear_model/_sag.py:350: ConvergenceWarning: The max_iter was reached which means the coef_ did not converge\n",
            "  warnings.warn(\n"
          ]
        },
        {
          "output_type": "stream",
          "name": "stdout",
          "text": [
            "[CV] END .....................C=100, penalty=l1, solver=saga; total time=  20.2s\n"
          ]
        },
        {
          "output_type": "stream",
          "name": "stderr",
          "text": [
            "/usr/local/lib/python3.10/dist-packages/sklearn/linear_model/_sag.py:350: ConvergenceWarning: The max_iter was reached which means the coef_ did not converge\n",
            "  warnings.warn(\n"
          ]
        },
        {
          "output_type": "stream",
          "name": "stdout",
          "text": [
            "[CV] END .....................C=100, penalty=l1, solver=saga; total time=  22.5s\n"
          ]
        },
        {
          "output_type": "stream",
          "name": "stderr",
          "text": [
            "/usr/local/lib/python3.10/dist-packages/sklearn/linear_model/_sag.py:350: ConvergenceWarning: The max_iter was reached which means the coef_ did not converge\n",
            "  warnings.warn(\n"
          ]
        },
        {
          "output_type": "stream",
          "name": "stdout",
          "text": [
            "[CV] END .....................C=100, penalty=l1, solver=saga; total time=  20.7s\n",
            "[CV] END ................C=100, penalty=l2, solver=newton-cg; total time=   0.8s\n",
            "[CV] END ................C=100, penalty=l2, solver=newton-cg; total time=   0.7s\n",
            "[CV] END ................C=100, penalty=l2, solver=newton-cg; total time=   0.7s\n",
            "[CV] END ....................C=100, penalty=l2, solver=lbfgs; total time=   0.5s\n",
            "[CV] END ....................C=100, penalty=l2, solver=lbfgs; total time=   0.5s\n",
            "[CV] END ....................C=100, penalty=l2, solver=lbfgs; total time=   0.4s\n",
            "[CV] END ................C=100, penalty=l2, solver=liblinear; total time=   0.4s\n",
            "[CV] END ................C=100, penalty=l2, solver=liblinear; total time=   0.4s\n",
            "[CV] END ................C=100, penalty=l2, solver=liblinear; total time=   0.3s\n"
          ]
        },
        {
          "output_type": "stream",
          "name": "stderr",
          "text": [
            "/usr/local/lib/python3.10/dist-packages/sklearn/linear_model/_sag.py:350: ConvergenceWarning: The max_iter was reached which means the coef_ did not converge\n",
            "  warnings.warn(\n"
          ]
        },
        {
          "output_type": "stream",
          "name": "stdout",
          "text": [
            "[CV] END ......................C=100, penalty=l2, solver=sag; total time=   6.0s\n"
          ]
        },
        {
          "output_type": "stream",
          "name": "stderr",
          "text": [
            "/usr/local/lib/python3.10/dist-packages/sklearn/linear_model/_sag.py:350: ConvergenceWarning: The max_iter was reached which means the coef_ did not converge\n",
            "  warnings.warn(\n"
          ]
        },
        {
          "output_type": "stream",
          "name": "stdout",
          "text": [
            "[CV] END ......................C=100, penalty=l2, solver=sag; total time=   5.0s\n"
          ]
        },
        {
          "output_type": "stream",
          "name": "stderr",
          "text": [
            "/usr/local/lib/python3.10/dist-packages/sklearn/linear_model/_sag.py:350: ConvergenceWarning: The max_iter was reached which means the coef_ did not converge\n",
            "  warnings.warn(\n"
          ]
        },
        {
          "output_type": "stream",
          "name": "stdout",
          "text": [
            "[CV] END ......................C=100, penalty=l2, solver=sag; total time=   4.7s\n"
          ]
        },
        {
          "output_type": "stream",
          "name": "stderr",
          "text": [
            "/usr/local/lib/python3.10/dist-packages/sklearn/linear_model/_sag.py:350: ConvergenceWarning: The max_iter was reached which means the coef_ did not converge\n",
            "  warnings.warn(\n"
          ]
        },
        {
          "output_type": "stream",
          "name": "stdout",
          "text": [
            "[CV] END .....................C=100, penalty=l2, solver=saga; total time=   5.8s\n"
          ]
        },
        {
          "output_type": "stream",
          "name": "stderr",
          "text": [
            "/usr/local/lib/python3.10/dist-packages/sklearn/linear_model/_sag.py:350: ConvergenceWarning: The max_iter was reached which means the coef_ did not converge\n",
            "  warnings.warn(\n"
          ]
        },
        {
          "output_type": "stream",
          "name": "stdout",
          "text": [
            "[CV] END .....................C=100, penalty=l2, solver=saga; total time=   5.0s\n"
          ]
        },
        {
          "output_type": "stream",
          "name": "stderr",
          "text": [
            "/usr/local/lib/python3.10/dist-packages/sklearn/linear_model/_sag.py:350: ConvergenceWarning: The max_iter was reached which means the coef_ did not converge\n",
            "  warnings.warn(\n",
            "/usr/local/lib/python3.10/dist-packages/sklearn/model_selection/_validation.py:378: FitFailedWarning: \n",
            "144 fits failed out of a total of 270.\n",
            "The score on these train-test partitions for these parameters will be set to nan.\n",
            "If these failures are not expected, you can try to debug them by setting error_score='raise'.\n",
            "\n",
            "Below are more details about the failures:\n",
            "--------------------------------------------------------------------------------\n",
            "18 fits failed with the following error:\n",
            "Traceback (most recent call last):\n",
            "  File \"/usr/local/lib/python3.10/dist-packages/sklearn/model_selection/_validation.py\", line 686, in _fit_and_score\n",
            "    estimator.fit(X_train, y_train, **fit_params)\n",
            "  File \"/usr/local/lib/python3.10/dist-packages/sklearn/linear_model/_logistic.py\", line 1162, in fit\n",
            "    solver = _check_solver(self.solver, self.penalty, self.dual)\n",
            "  File \"/usr/local/lib/python3.10/dist-packages/sklearn/linear_model/_logistic.py\", line 54, in _check_solver\n",
            "    raise ValueError(\n",
            "ValueError: Solver newton-cg supports only 'l2' or 'none' penalties, got l1 penalty.\n",
            "\n",
            "--------------------------------------------------------------------------------\n",
            "18 fits failed with the following error:\n",
            "Traceback (most recent call last):\n",
            "  File \"/usr/local/lib/python3.10/dist-packages/sklearn/model_selection/_validation.py\", line 686, in _fit_and_score\n",
            "    estimator.fit(X_train, y_train, **fit_params)\n",
            "  File \"/usr/local/lib/python3.10/dist-packages/sklearn/linear_model/_logistic.py\", line 1162, in fit\n",
            "    solver = _check_solver(self.solver, self.penalty, self.dual)\n",
            "  File \"/usr/local/lib/python3.10/dist-packages/sklearn/linear_model/_logistic.py\", line 54, in _check_solver\n",
            "    raise ValueError(\n",
            "ValueError: Solver lbfgs supports only 'l2' or 'none' penalties, got l1 penalty.\n",
            "\n",
            "--------------------------------------------------------------------------------\n",
            "18 fits failed with the following error:\n",
            "Traceback (most recent call last):\n",
            "  File \"/usr/local/lib/python3.10/dist-packages/sklearn/model_selection/_validation.py\", line 686, in _fit_and_score\n",
            "    estimator.fit(X_train, y_train, **fit_params)\n",
            "  File \"/usr/local/lib/python3.10/dist-packages/sklearn/linear_model/_logistic.py\", line 1162, in fit\n",
            "    solver = _check_solver(self.solver, self.penalty, self.dual)\n",
            "  File \"/usr/local/lib/python3.10/dist-packages/sklearn/linear_model/_logistic.py\", line 54, in _check_solver\n",
            "    raise ValueError(\n",
            "ValueError: Solver sag supports only 'l2' or 'none' penalties, got l1 penalty.\n",
            "\n",
            "--------------------------------------------------------------------------------\n",
            "18 fits failed with the following error:\n",
            "Traceback (most recent call last):\n",
            "  File \"/usr/local/lib/python3.10/dist-packages/sklearn/model_selection/_validation.py\", line 686, in _fit_and_score\n",
            "    estimator.fit(X_train, y_train, **fit_params)\n",
            "  File \"/usr/local/lib/python3.10/dist-packages/sklearn/linear_model/_logistic.py\", line 1162, in fit\n",
            "    solver = _check_solver(self.solver, self.penalty, self.dual)\n",
            "  File \"/usr/local/lib/python3.10/dist-packages/sklearn/linear_model/_logistic.py\", line 54, in _check_solver\n",
            "    raise ValueError(\n",
            "ValueError: Solver newton-cg supports only 'l2' or 'none' penalties, got elasticnet penalty.\n",
            "\n",
            "--------------------------------------------------------------------------------\n",
            "18 fits failed with the following error:\n",
            "Traceback (most recent call last):\n",
            "  File \"/usr/local/lib/python3.10/dist-packages/sklearn/model_selection/_validation.py\", line 686, in _fit_and_score\n",
            "    estimator.fit(X_train, y_train, **fit_params)\n",
            "  File \"/usr/local/lib/python3.10/dist-packages/sklearn/linear_model/_logistic.py\", line 1162, in fit\n",
            "    solver = _check_solver(self.solver, self.penalty, self.dual)\n",
            "  File \"/usr/local/lib/python3.10/dist-packages/sklearn/linear_model/_logistic.py\", line 54, in _check_solver\n",
            "    raise ValueError(\n",
            "ValueError: Solver lbfgs supports only 'l2' or 'none' penalties, got elasticnet penalty.\n",
            "\n",
            "--------------------------------------------------------------------------------\n",
            "18 fits failed with the following error:\n",
            "Traceback (most recent call last):\n",
            "  File \"/usr/local/lib/python3.10/dist-packages/sklearn/model_selection/_validation.py\", line 686, in _fit_and_score\n",
            "    estimator.fit(X_train, y_train, **fit_params)\n",
            "  File \"/usr/local/lib/python3.10/dist-packages/sklearn/linear_model/_logistic.py\", line 1162, in fit\n",
            "    solver = _check_solver(self.solver, self.penalty, self.dual)\n",
            "  File \"/usr/local/lib/python3.10/dist-packages/sklearn/linear_model/_logistic.py\", line 64, in _check_solver\n",
            "    raise ValueError(\n",
            "ValueError: Only 'saga' solver supports elasticnet penalty, got solver=liblinear.\n",
            "\n",
            "--------------------------------------------------------------------------------\n",
            "18 fits failed with the following error:\n",
            "Traceback (most recent call last):\n",
            "  File \"/usr/local/lib/python3.10/dist-packages/sklearn/model_selection/_validation.py\", line 686, in _fit_and_score\n",
            "    estimator.fit(X_train, y_train, **fit_params)\n",
            "  File \"/usr/local/lib/python3.10/dist-packages/sklearn/linear_model/_logistic.py\", line 1162, in fit\n",
            "    solver = _check_solver(self.solver, self.penalty, self.dual)\n",
            "  File \"/usr/local/lib/python3.10/dist-packages/sklearn/linear_model/_logistic.py\", line 54, in _check_solver\n",
            "    raise ValueError(\n",
            "ValueError: Solver sag supports only 'l2' or 'none' penalties, got elasticnet penalty.\n",
            "\n",
            "--------------------------------------------------------------------------------\n",
            "18 fits failed with the following error:\n",
            "Traceback (most recent call last):\n",
            "  File \"/usr/local/lib/python3.10/dist-packages/sklearn/model_selection/_validation.py\", line 686, in _fit_and_score\n",
            "    estimator.fit(X_train, y_train, **fit_params)\n",
            "  File \"/usr/local/lib/python3.10/dist-packages/sklearn/linear_model/_logistic.py\", line 1291, in fit\n",
            "    fold_coefs_ = Parallel(n_jobs=self.n_jobs, verbose=self.verbose, prefer=prefer)(\n",
            "  File \"/usr/local/lib/python3.10/dist-packages/sklearn/utils/parallel.py\", line 63, in __call__\n",
            "    return super().__call__(iterable_with_config)\n",
            "  File \"/usr/local/lib/python3.10/dist-packages/joblib/parallel.py\", line 1863, in __call__\n",
            "    return output if self.return_generator else list(output)\n",
            "  File \"/usr/local/lib/python3.10/dist-packages/joblib/parallel.py\", line 1792, in _get_sequential_output\n",
            "    res = func(*args, **kwargs)\n",
            "  File \"/usr/local/lib/python3.10/dist-packages/sklearn/utils/parallel.py\", line 123, in __call__\n",
            "    return self.function(*args, **kwargs)\n",
            "  File \"/usr/local/lib/python3.10/dist-packages/sklearn/linear_model/_logistic.py\", line 521, in _logistic_regression_path\n",
            "    alpha = (1.0 / C) * (1 - l1_ratio)\n",
            "TypeError: unsupported operand type(s) for -: 'int' and 'NoneType'\n",
            "\n",
            "  warnings.warn(some_fits_failed_message, FitFailedWarning)\n",
            "/usr/local/lib/python3.10/dist-packages/sklearn/model_selection/_search.py:952: UserWarning: One or more of the test scores are non-finite: [       nan        nan 0.65911648        nan 0.63881257 0.77014769\n",
            " 0.77013205 0.77164939 0.77102368 0.77260359        nan        nan\n",
            "        nan        nan        nan        nan        nan 0.7630616\n",
            "        nan 0.76334317 0.78461712 0.78461712 0.78452327 0.78463277\n",
            " 0.78500819        nan        nan        nan        nan        nan\n",
            "        nan        nan 0.78589984        nan 0.78582163 0.78647861\n",
            " 0.78646296 0.78644732 0.78632218 0.78649425        nan        nan\n",
            "        nan        nan        nan        nan        nan 0.7861814\n",
            "        nan 0.78616575 0.78633782 0.78633782 0.78633782 0.78630653\n",
            " 0.78618139        nan        nan        nan        nan        nan\n",
            "        nan        nan 0.78641603        nan 0.78610318 0.7864786\n",
            " 0.78646296 0.7864786  0.78635346 0.78613447        nan        nan\n",
            "        nan        nan        nan        nan        nan 0.78641603\n",
            "        nan 0.78615011 0.78644732 0.78644732 0.78644732 0.78633782\n",
            " 0.78615011        nan        nan        nan        nan        nan]\n",
            "  warnings.warn(\n"
          ]
        },
        {
          "output_type": "stream",
          "name": "stdout",
          "text": [
            "[CV] END .....................C=100, penalty=l2, solver=saga; total time=   5.9s\n",
            "[CV] END ........C=100, penalty=elasticnet, solver=newton-cg; total time=   0.0s\n",
            "[CV] END ........C=100, penalty=elasticnet, solver=newton-cg; total time=   0.0s\n",
            "[CV] END ........C=100, penalty=elasticnet, solver=newton-cg; total time=   0.0s\n",
            "[CV] END ............C=100, penalty=elasticnet, solver=lbfgs; total time=   0.0s\n",
            "[CV] END ............C=100, penalty=elasticnet, solver=lbfgs; total time=   0.0s\n",
            "[CV] END ............C=100, penalty=elasticnet, solver=lbfgs; total time=   0.0s\n",
            "[CV] END ........C=100, penalty=elasticnet, solver=liblinear; total time=   0.0s\n",
            "[CV] END ........C=100, penalty=elasticnet, solver=liblinear; total time=   0.0s\n",
            "[CV] END ........C=100, penalty=elasticnet, solver=liblinear; total time=   0.0s\n",
            "[CV] END ..............C=100, penalty=elasticnet, solver=sag; total time=   0.0s\n",
            "[CV] END ..............C=100, penalty=elasticnet, solver=sag; total time=   0.0s\n",
            "[CV] END ..............C=100, penalty=elasticnet, solver=sag; total time=   0.0s\n",
            "[CV] END .............C=100, penalty=elasticnet, solver=saga; total time=   0.0s\n",
            "[CV] END .............C=100, penalty=elasticnet, solver=saga; total time=   0.0s\n",
            "[CV] END .............C=100, penalty=elasticnet, solver=saga; total time=   0.0s\n",
            "Mejores hiperparámetros para regresor logístico: {'C': 0.1, 'penalty': 'l2', 'solver': 'saga'}\n"
          ]
        },
        {
          "output_type": "stream",
          "name": "stderr",
          "text": [
            "/usr/local/lib/python3.10/dist-packages/sklearn/linear_model/_sag.py:350: ConvergenceWarning: The max_iter was reached which means the coef_ did not converge\n",
            "  warnings.warn(\n"
          ]
        }
      ]
    },
    {
      "cell_type": "code",
      "source": [
        "logistic_model = LogisticRegression(C = gs_logistic.best_params_['C'],\n",
        "                                    solver = gs_logistic.best_params_['solver'],\n",
        "                                    penalty = gs_logistic.best_params_['penalty'],\n",
        "                                    max_iter = 300\n",
        "                                    )\n",
        "\n",
        "logistic_model.fit(X_train, y_train)\n",
        "\n",
        "test_predict = logistic_model.predict(X_test)\n",
        "\n",
        "print('Precisión del modelo Logistic Regression en Test: {}'.format(accuracy_score(y_test, test_predict)))"
      ],
      "metadata": {
        "colab": {
          "base_uri": "https://localhost:8080/"
        },
        "id": "M43i8JnYBolG",
        "outputId": "86a1c4c0-3fcd-4157-c071-0eb5e190d064"
      },
      "execution_count": 10,
      "outputs": [
        {
          "output_type": "stream",
          "name": "stdout",
          "text": [
            "Precisión del modelo Logistic Regression en Test: 0.7945942563974223\n"
          ]
        },
        {
          "output_type": "stream",
          "name": "stderr",
          "text": [
            "/usr/local/lib/python3.10/dist-packages/sklearn/linear_model/_sag.py:350: ConvergenceWarning: The max_iter was reached which means the coef_ did not converge\n",
            "  warnings.warn(\n"
          ]
        }
      ]
    },
    {
      "cell_type": "markdown",
      "source": [
        "## **2.2 Segundo modelo**"
      ],
      "metadata": {
        "id": "wEU5x2-WSSTn"
      }
    },
    {
      "cell_type": "code",
      "source": [
        "# Definición de hiperparámetros para explorar\n",
        "pg_rf = {'n_estimators': [50, 100, 200],\n",
        "         'max_depth': [10, 15, 20]\n",
        "         }\n",
        "\n",
        "# Configuración del GridSearch\n",
        "gs_rf = GridSearchCV(RandomForestClassifier(),\n",
        "                     param_grid = pg_rf,\n",
        "                     cv = 3,\n",
        "                     scoring = 'accuracy',\n",
        "                     verbose = 2\n",
        "                     )\n",
        "\n",
        "# Compilación del modelo\n",
        "gs_rf.fit(X_train, y_train)\n",
        "\n",
        "# Mejores hiperparámetros\n",
        "print(\"Mejores hiperparámetros para Random Forest:\", gs_rf.best_params_)"
      ],
      "metadata": {
        "colab": {
          "base_uri": "https://localhost:8080/"
        },
        "id": "iIBpB_UC4vYn",
        "outputId": "1c12df91-78dd-4845-bbdc-5a8da2a6122e"
      },
      "execution_count": 11,
      "outputs": [
        {
          "output_type": "stream",
          "name": "stdout",
          "text": [
            "Fitting 3 folds for each of 9 candidates, totalling 27 fits\n",
            "[CV] END ......................max_depth=10, n_estimators=50; total time=   1.6s\n",
            "[CV] END ......................max_depth=10, n_estimators=50; total time=   1.6s\n",
            "[CV] END ......................max_depth=10, n_estimators=50; total time=   1.6s\n",
            "[CV] END .....................max_depth=10, n_estimators=100; total time=   3.1s\n",
            "[CV] END .....................max_depth=10, n_estimators=100; total time=   4.0s\n",
            "[CV] END .....................max_depth=10, n_estimators=100; total time=   3.1s\n",
            "[CV] END .....................max_depth=10, n_estimators=200; total time=   5.9s\n",
            "[CV] END .....................max_depth=10, n_estimators=200; total time=   7.0s\n",
            "[CV] END .....................max_depth=10, n_estimators=200; total time=   6.0s\n",
            "[CV] END ......................max_depth=15, n_estimators=50; total time=   4.0s\n",
            "[CV] END ......................max_depth=15, n_estimators=50; total time=   3.1s\n",
            "[CV] END ......................max_depth=15, n_estimators=50; total time=   3.2s\n",
            "[CV] END .....................max_depth=15, n_estimators=100; total time=   7.4s\n",
            "[CV] END .....................max_depth=15, n_estimators=100; total time=   6.4s\n",
            "[CV] END .....................max_depth=15, n_estimators=100; total time=   7.4s\n",
            "[CV] END .....................max_depth=15, n_estimators=200; total time=  13.4s\n",
            "[CV] END .....................max_depth=15, n_estimators=200; total time=  13.4s\n",
            "[CV] END .....................max_depth=15, n_estimators=200; total time=  13.7s\n",
            "[CV] END ......................max_depth=20, n_estimators=50; total time=   5.6s\n",
            "[CV] END ......................max_depth=20, n_estimators=50; total time=   6.6s\n",
            "[CV] END ......................max_depth=20, n_estimators=50; total time=   5.5s\n",
            "[CV] END .....................max_depth=20, n_estimators=100; total time=  13.3s\n",
            "[CV] END .....................max_depth=20, n_estimators=100; total time=  12.0s\n",
            "[CV] END .....................max_depth=20, n_estimators=100; total time=  12.3s\n",
            "[CV] END .....................max_depth=20, n_estimators=200; total time=  24.1s\n",
            "[CV] END .....................max_depth=20, n_estimators=200; total time=  33.6s\n",
            "[CV] END .....................max_depth=20, n_estimators=200; total time=  23.3s\n",
            "Mejores hiperparámetros para Random Forest: {'max_depth': 20, 'n_estimators': 200}\n"
          ]
        }
      ]
    },
    {
      "cell_type": "code",
      "source": [
        "forest_model = RandomForestClassifier(n_estimators = gs_rf.best_params_['n_estimators'],\n",
        "                                      max_depth = gs_rf.best_params_['max_depth']\n",
        "                                      )\n",
        "\n",
        "forest_model.fit(X_train, y_train)\n",
        "\n",
        "test_predict_f = forest_model.predict(X_test)\n",
        "\n",
        "print('Precisión del modelo Random Forest Classifier en Test: {}'.format(accuracy_score(y_test, test_predict_f)))"
      ],
      "metadata": {
        "id": "VzF67DyYDffO",
        "colab": {
          "base_uri": "https://localhost:8080/"
        },
        "outputId": "05617d4c-0331-47d3-d1da-dc63a22c9f65"
      },
      "execution_count": 12,
      "outputs": [
        {
          "output_type": "stream",
          "name": "stdout",
          "text": [
            "Precisión del modelo Random Forest Classifier en Test: 0.7812050303447413\n"
          ]
        }
      ]
    },
    {
      "cell_type": "markdown",
      "source": [
        "# **3. Comparación y elección de modelos**"
      ],
      "metadata": {
        "id": "-UdjTsb-SXKW"
      }
    },
    {
      "cell_type": "code",
      "source": [
        "# Regresión Logística\n",
        "print(\"Regresión Logística:\")\n",
        "print(classification_report(y_test, test_predict))\n",
        "\n",
        "# Random Forest\n",
        "print(\"Random Forest:\")\n",
        "print(classification_report(y_test, test_predict_f))"
      ],
      "metadata": {
        "id": "5k5wLG4WSsnl",
        "colab": {
          "base_uri": "https://localhost:8080/"
        },
        "outputId": "ffe81b67-6a3f-4009-90d0-49769285e519"
      },
      "execution_count": 13,
      "outputs": [
        {
          "output_type": "stream",
          "name": "stdout",
          "text": [
            "Regresión Logística:\n",
            "              precision    recall  f1-score   support\n",
            "\n",
            "           0       0.78      0.82      0.80      7983\n",
            "           1       0.81      0.77      0.79      8000\n",
            "\n",
            "    accuracy                           0.79     15983\n",
            "   macro avg       0.80      0.79      0.79     15983\n",
            "weighted avg       0.80      0.79      0.79     15983\n",
            "\n",
            "Random Forest:\n",
            "              precision    recall  f1-score   support\n",
            "\n",
            "           0       0.75      0.85      0.79      7983\n",
            "           1       0.83      0.71      0.77      8000\n",
            "\n",
            "    accuracy                           0.78     15983\n",
            "   macro avg       0.79      0.78      0.78     15983\n",
            "weighted avg       0.79      0.78      0.78     15983\n",
            "\n"
          ]
        }
      ]
    },
    {
      "cell_type": "markdown",
      "source": [
        "Luego de analizar las métricas, concluyo que la regresión logística es superior en la clasificación general comparado con el Random Forest. A pesar que el RF no se queda atrás en rendimiento tampoco, muestra ciertas limitaciones para clasificar las muestras negativas.\n",
        "\n",
        "Además hay un elemento que no se puede perder de vista y es el costo computacional. La regresión logística es más eficiente en término de recursos que el RF, esto es también un determinante sabiendo que no dieron resultados muy diferentes en la precisión, pero sí en tiempo de ejecución y gasto de recursos. El modelo de regresión logística compila entre 8 y 10 segundos; El modelo de Random Forest compila entre 45 y 50 segundos."
      ],
      "metadata": {
        "id": "xHiK50oLUvRB"
      }
    },
    {
      "cell_type": "markdown",
      "source": [
        "Ayudas usadas:\n",
        "\n",
        "[joblib](https://www.datasmarts.net/como-guardar-y-cargar-modelos-de-machine-learning-en-scikit-learn/)\n",
        "\n",
        "[scipy](https://stackoverflow.com/questions/8955448/save-load-scipy-sparse-csr-matrix-in-portable-data-format)"
      ],
      "metadata": {
        "id": "NM54NToxc2ZZ"
      }
    },
    {
      "cell_type": "code",
      "source": [
        "# Se descargan los datos y el modelo para su uso posterior\n",
        "\n",
        "sparse.save_npz(\"X_train.npz\", X_train)\n",
        "sparse.save_npz(\"X_test.npz\", X_test)\n",
        "\n",
        "y_train.to_csv('y_train.csv', index = False)\n",
        "y_test.to_csv('y_test.csv', index = False)\n",
        "\n",
        "dump(logistic_model, 'model.joblib')"
      ],
      "metadata": {
        "colab": {
          "base_uri": "https://localhost:8080/"
        },
        "id": "I_6IDDbWZbmM",
        "outputId": "1940154b-7535-4e7d-8f4c-f079bebe767c"
      },
      "execution_count": 14,
      "outputs": [
        {
          "output_type": "execute_result",
          "data": {
            "text/plain": [
              "['model.joblib']"
            ]
          },
          "metadata": {},
          "execution_count": 14
        }
      ]
    }
  ]
}